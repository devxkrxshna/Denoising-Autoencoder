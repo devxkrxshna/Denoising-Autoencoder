{
  "cells": [
    {
      "cell_type": "markdown",
      "metadata": {
        "id": "view-in-github",
        "colab_type": "text"
      },
      "source": [
        "<a href=\"https://colab.research.google.com/github/devxkrxshna/Denoising-Autoencoder/blob/main/02_11_22_MNIST_SSIM_%26_PSNR.ipynb\" target=\"_parent\"><img src=\"https://colab.research.google.com/assets/colab-badge.svg\" alt=\"Open In Colab\"/></a>"
      ]
    },
    {
      "cell_type": "code",
      "execution_count": null,
      "id": "canadian-canyon",
      "metadata": {
        "id": "canadian-canyon"
      },
      "outputs": [],
      "source": [
        "import torch\n",
        "import torch.nn as nn\n",
        "import torch.nn.functional as F\n",
        "import torch.optim as optim\n",
        "from torchvision import datasets, transforms\n",
        "import matplotlib.pyplot as plt"
      ]
    },
    {
      "cell_type": "code",
      "source": [],
      "metadata": {
        "id": "FIhQxnyIoyxA"
      },
      "id": "FIhQxnyIoyxA",
      "execution_count": null,
      "outputs": []
    },
    {
      "cell_type": "code",
      "execution_count": null,
      "id": "gentle-metallic",
      "metadata": {
        "id": "gentle-metallic",
        "colab": {
          "base_uri": "https://localhost:8080/",
          "height": 471,
          "referenced_widgets": [
            "bf50772cb0b24b5d8b77886f66c67835",
            "88b2c0d6a3b64b04a1e734c62ed29a06",
            "4e1c6ea288bb4ac79011042343daf0b9",
            "aca53e42ce9440f8a638e718122d236e",
            "d81dc81e825a43579f1829751b050fe1",
            "a000e46527be4adfb476fa1e481109a8",
            "e7110372971447a3a44f431d546f5ca2",
            "1bd546782da3437f9a1cd94d96961661",
            "97737c31fb4d40e3ad5f07d828879a44",
            "18e64f1cda26482f81fd53e71439a510",
            "81b7473071584a888cf2113f90ec93c5",
            "af619f08b85b4681bc85615133fe7991",
            "752fef5471364975a082e3d81c4c8c50",
            "9b7d3b2272f44842a14d8845a18bba14",
            "26735e5162b148f88f8fdcde8e04312c",
            "890b06bef4284fcb972d6fa41fede084",
            "cebe473c81804f5aa91e2631d2e1ed11",
            "f2f96d55969b4ba28b7438faea60815f",
            "6d549e13f4cb4aa8be187a606bb90eb8",
            "37594e858924468e84af958c066600d6",
            "9830e808e83b4964a0e0b1e62f94a114",
            "470ba1e68af8418d802257f8bdfc15a6",
            "751c13c1e7ca48a490fdca7dba244634",
            "d7f5a92f186b455891b1979b4ad9e9eb",
            "4b63e8dcd71b416a9a78f575fbd8f8ed",
            "b968810f8d2a4549aa4b92a2baf455a8",
            "f90c1dba36dd4f98887864f1e7d6eb59",
            "703c2e3c99014a3ab7800b84b8c83d21",
            "aa00c340e6a14a14ad9b0cf56bb9f83f",
            "890a7698b4af4f52bd941c9228a243ff",
            "b48a6eec95364762b51fdf4a055e8705",
            "70adb48515144efd94d18e2b73e21728",
            "2bfc6107cffb4e5297a14621025127d9",
            "659ed297756442e08f6dc00111102176",
            "f3b48d46413547458605414d998eeed4",
            "be52eb0f66f64a39a14c35561288ec09",
            "b1da98b5398c4862b00c5bd9d1ac195f",
            "ea7a251a273644d6bfc549b8ebf7cf40",
            "dfba74d488804a21b1013590caf21590",
            "2fb5578451974c81815138038a23580d",
            "2c7d45cd4da748e8bd2f091241af47ff",
            "730c1d1967b74b54aff61dcb0a2de76d",
            "174420fa72ca463ca211fad66c3589ff",
            "41e775f13bb24b1bb54337d6f25c1040"
          ]
        },
        "outputId": "f6b6aa0a-cdf4-48e9-8d3a-979ac1cc77ce"
      },
      "outputs": [
        {
          "output_type": "stream",
          "name": "stdout",
          "text": [
            "Downloading http://yann.lecun.com/exdb/mnist/train-images-idx3-ubyte.gz\n",
            "Downloading http://yann.lecun.com/exdb/mnist/train-images-idx3-ubyte.gz to ./data/MNIST/raw/train-images-idx3-ubyte.gz\n"
          ]
        },
        {
          "output_type": "display_data",
          "data": {
            "text/plain": [
              "  0%|          | 0/9912422 [00:00<?, ?it/s]"
            ],
            "application/vnd.jupyter.widget-view+json": {
              "version_major": 2,
              "version_minor": 0,
              "model_id": "bf50772cb0b24b5d8b77886f66c67835"
            }
          },
          "metadata": {}
        },
        {
          "output_type": "stream",
          "name": "stdout",
          "text": [
            "Extracting ./data/MNIST/raw/train-images-idx3-ubyte.gz to ./data/MNIST/raw\n",
            "\n",
            "Downloading http://yann.lecun.com/exdb/mnist/train-labels-idx1-ubyte.gz\n",
            "Downloading http://yann.lecun.com/exdb/mnist/train-labels-idx1-ubyte.gz to ./data/MNIST/raw/train-labels-idx1-ubyte.gz\n"
          ]
        },
        {
          "output_type": "display_data",
          "data": {
            "text/plain": [
              "  0%|          | 0/28881 [00:00<?, ?it/s]"
            ],
            "application/vnd.jupyter.widget-view+json": {
              "version_major": 2,
              "version_minor": 0,
              "model_id": "af619f08b85b4681bc85615133fe7991"
            }
          },
          "metadata": {}
        },
        {
          "output_type": "stream",
          "name": "stdout",
          "text": [
            "Extracting ./data/MNIST/raw/train-labels-idx1-ubyte.gz to ./data/MNIST/raw\n",
            "\n",
            "Downloading http://yann.lecun.com/exdb/mnist/t10k-images-idx3-ubyte.gz\n",
            "Downloading http://yann.lecun.com/exdb/mnist/t10k-images-idx3-ubyte.gz to ./data/MNIST/raw/t10k-images-idx3-ubyte.gz\n"
          ]
        },
        {
          "output_type": "display_data",
          "data": {
            "text/plain": [
              "  0%|          | 0/1648877 [00:00<?, ?it/s]"
            ],
            "application/vnd.jupyter.widget-view+json": {
              "version_major": 2,
              "version_minor": 0,
              "model_id": "751c13c1e7ca48a490fdca7dba244634"
            }
          },
          "metadata": {}
        },
        {
          "output_type": "stream",
          "name": "stdout",
          "text": [
            "Extracting ./data/MNIST/raw/t10k-images-idx3-ubyte.gz to ./data/MNIST/raw\n",
            "\n",
            "Downloading http://yann.lecun.com/exdb/mnist/t10k-labels-idx1-ubyte.gz\n",
            "Downloading http://yann.lecun.com/exdb/mnist/t10k-labels-idx1-ubyte.gz to ./data/MNIST/raw/t10k-labels-idx1-ubyte.gz\n"
          ]
        },
        {
          "output_type": "display_data",
          "data": {
            "text/plain": [
              "  0%|          | 0/4542 [00:00<?, ?it/s]"
            ],
            "application/vnd.jupyter.widget-view+json": {
              "version_major": 2,
              "version_minor": 0,
              "model_id": "659ed297756442e08f6dc00111102176"
            }
          },
          "metadata": {}
        },
        {
          "output_type": "stream",
          "name": "stdout",
          "text": [
            "Extracting ./data/MNIST/raw/t10k-labels-idx1-ubyte.gz to ./data/MNIST/raw\n",
            "\n"
          ]
        }
      ],
      "source": [
        "transform = transforms.Compose(\n",
        "    [transforms.ToTensor(),\n",
        "     transforms.Normalize((0.5), (0.5))\n",
        "    ])\n",
        "\n",
        "transform = transforms.ToTensor()\n",
        "\n",
        "mnist_data = datasets.MNIST(root='./data', train=True, download=True, transform=transform)\n",
        "data_loader = torch.utils.data.DataLoader(dataset=mnist_data,\n",
        "                                          batch_size=64,\n",
        "                                          shuffle=True)"
      ]
    },
    {
      "cell_type": "code",
      "execution_count": null,
      "id": "purple-birth",
      "metadata": {
        "id": "purple-birth",
        "outputId": "99d48077-f28c-41f4-8436-a03d8cb62079",
        "colab": {
          "base_uri": "https://localhost:8080/"
        }
      },
      "outputs": [
        {
          "output_type": "stream",
          "name": "stdout",
          "text": [
            "tensor(0.) tensor(1.)\n"
          ]
        }
      ],
      "source": [
        "dataiter = iter(data_loader) \n",
        "images, labels = dataiter.next() #pulling out the first images and labels by calling data iter\n",
        "print(torch.min(images), torch.max(images)) #ranging from 0-1"
      ]
    },
    {
      "cell_type": "code",
      "execution_count": null,
      "id": "endless-charlotte",
      "metadata": {
        "id": "endless-charlotte"
      },
      "outputs": [],
      "source": [
        "# repeatedly reduce the size\n",
        "class Autoencoder_Linear(nn.Module): #inheritance from nn.model\n",
        "    def __init__(self):\n",
        "        super().__init__()   \n",
        "        #below code we are repeatedly reducing the size     \n",
        "        self.encoder = nn.Sequential(\n",
        "            nn.Linear(28 * 28, 128), # (N, 784) -> (N, 128) , first linear layer\n",
        "            nn.ReLU(),  #activation function\n",
        "            nn.Linear(128, 64),\n",
        "            nn.ReLU(),\n",
        "            nn.Linear(64, 12),\n",
        "            nn.ReLU(),\n",
        "            nn.Linear(12, 3) # -> N, 3 #last layer\n",
        "        )\n",
        "        \n",
        "        self.decoder = nn.Sequential( \n",
        "            nn.Linear(3, 12), #input size= 3, o/p size =12\n",
        "            nn.ReLU(),\n",
        "            nn.Linear(12, 64),\n",
        "            nn.ReLU(),\n",
        "            nn.Linear(64, 128),\n",
        "            nn.ReLU(),\n",
        "            nn.Linear(128, 28 * 28),\n",
        "            nn.Sigmoid() #our images have values between 0-1, sigmoid function push o/p o the range 0-1\n",
        "        )\n",
        "\n",
        "    def forward(self, x): #forward pass\n",
        "        encoded = self.encoder(x)\n",
        "        decoded = self.decoder(encoded)\n",
        "        return decoded\n",
        "    \n",
        "# Input [-1, +1] -> use nn.Tanh"
      ]
    },
    {
      "cell_type": "code",
      "execution_count": null,
      "id": "swedish-robin",
      "metadata": {
        "id": "swedish-robin"
      },
      "outputs": [],
      "source": [
        "class Autoencoder(nn.Module):\n",
        "    def __init__(self):\n",
        "        super().__init__()        \n",
        "        # N, 1, 28, 28\n",
        "        self.encoder = nn.Sequential(\n",
        "            nn.Conv2d(1, 16, 3, stride=2, padding=1), # -> N, 16, 14, 14\n",
        "            nn.ReLU(),\n",
        "            nn.Conv2d(16, 32, 3, stride=2, padding=1), # -> N, 32, 7, 7\n",
        "            nn.ReLU(),\n",
        "            nn.Conv2d(32, 64, 7) # -> N, 64, 1, 1\n",
        "        )\n",
        "        \n",
        "        # N , 64, 1, 1\n",
        "        self.decoder = nn.Sequential(\n",
        "            nn.ConvTranspose2d(64, 32, 7), # -> N, 32, 7, 7\n",
        "            nn.ReLU(),\n",
        "            nn.ConvTranspose2d(32, 16, 3, stride=2, padding=1, output_padding=1), # N, 16, 14, 14 (N,16,13,13 without output_padding)\n",
        "            nn.ReLU(),\n",
        "            nn.ConvTranspose2d(16, 1, 3, stride=2, padding=1, output_padding=1), # N, 1, 28, 28  (N,1,27,27)\n",
        "            nn.Sigmoid()\n",
        "        )\n",
        "\n",
        "    def forward(self, x):\n",
        "        encoded = self.encoder(x)\n",
        "        decoded = self.decoder(encoded)\n",
        "        return decoded\n",
        "    \n",
        " \n",
        "# Note: nn.MaxPool2d -> use nn.MaxUnpool2d, or use different kernelsize, stride etc to compensate...\n",
        "# Input [-1, +1] -> use nn.Tanh"
      ]
    },
    {
      "cell_type": "code",
      "source": [],
      "metadata": {
        "id": "sJcHwN3OyZWo"
      },
      "id": "sJcHwN3OyZWo",
      "execution_count": null,
      "outputs": []
    },
    {
      "cell_type": "code",
      "execution_count": null,
      "id": "educated-meditation",
      "metadata": {
        "id": "educated-meditation"
      },
      "outputs": [],
      "source": [
        "#set up the autoencoder\n",
        "model = Autoencoder()\n",
        "\n",
        "criterion = nn.MSELoss() #mean square error loss function, to adjust weight and bias\n",
        "optimizer = torch.optim.Adam(model.parameters(),\n",
        "                             lr=1e-3, \n",
        "                             weight_decay=1e-5) #optimizer"
      ]
    },
    {
      "cell_type": "code",
      "source": [],
      "metadata": {
        "id": "C5mI9VbIytch"
      },
      "id": "C5mI9VbIytch",
      "execution_count": null,
      "outputs": []
    },
    {
      "cell_type": "code",
      "execution_count": null,
      "id": "51cbaa51",
      "metadata": {
        "id": "51cbaa51"
      },
      "outputs": [],
      "source": [
        "#function to add noise\n",
        "def add_noise(inputs,noise_factor=0.3):\n",
        "     noisy = inputs+torch.randn_like(inputs) * noise_factor\n",
        "     noisy = torch.clip(noisy,0.,1.)\n",
        "     return noisy"
      ]
    },
    {
      "cell_type": "code",
      "execution_count": null,
      "id": "steady-ceremony",
      "metadata": {
        "id": "steady-ceremony",
        "outputId": "88879fc7-21de-49ab-bf2a-efaa1e476735"
      },
      "outputs": [
        {
          "name": "stdout",
          "output_type": "stream",
          "text": [
            "Epoch:1, Loss:0.0335\n",
            "Epoch:2, Loss:0.0324\n",
            "Epoch:3, Loss:0.0333\n"
          ]
        }
      ],
      "source": [
        "# training loop\n",
        "num_epochs = 3\n",
        "outputs = []\n",
        "for epoch in range(num_epochs):\n",
        "    for (img, _) in data_loader:\n",
        "        img_noisy = add_noise(img,noise_factor=0.3)\n",
        "        #img = img.reshape(-1, 28*28) #  use for Autoencoder_Linear\n",
        "        recon = model(img_noisy) #reconstructed image\n",
        "        loss = criterion(recon, img_noisy) #call loss function to calculate the mean squared error between them\n",
        "        \n",
        "        optimizer.zero_grad() #gradient descent is set to zero, to prevent gradient would keep accumulating over time.\n",
        "\n",
        "\n",
        "        loss.backward()\n",
        "        optimizer.step()\n",
        "\n",
        "    print(f'Epoch:{epoch+1}, Loss:{loss.item():.4f}')\n",
        "    outputs.append((epoch, img,img_noisy, recon)) #storing"
      ]
    },
    {
      "cell_type": "code",
      "execution_count": null,
      "id": "numerous-greensboro",
      "metadata": {
        "id": "numerous-greensboro",
        "outputId": "27ab23be-f57f-4cce-d8fe-1efb20078577"
      },
      "outputs": [
        {
          "data": {
            "image/png": "[encoded data removed]",
            "text/plain": [
              "<Figure size 900x200 with 27 Axes>"
            ]
          },
          "metadata": {},
          "output_type": "display_data"
        }
      ],
      "source": [
        "for k in range(0, num_epochs, 4):\n",
        "    plt.figure(figsize=(9, 2))\n",
        "    plt.gray()\n",
        "    imgs = outputs[k][1].detach().numpy() \n",
        "    imgs_noisy = outputs[k][2].detach().numpy()#converting a tensor to numpy\n",
        "    recon = outputs[k][3].detach().numpy()\n",
        "    for i, item in enumerate(imgs):\n",
        "        if i >= 9: break #plot the first 9 in a batc\n",
        "        plt.subplot(3, 9, i+1) \n",
        "        # item = item.reshape(-1, 28,28) # -> use for Autoencoder_Linear\n",
        "        # item: 1, 28, 28\n",
        "        #print(i,item[0])\n",
        "        plt.imshow(item[0])\n",
        "        \n",
        "    for i, item in enumerate(imgs_noisy):\n",
        "        if i >= 9: break\n",
        "        plt.subplot(3, 9, 9+i+1) # row_length + i + 1\n",
        "        # item = item.reshape(-1, 28,28) # -> use for Autoencoder_Linear\n",
        "        # item: 1, 28, 28\n",
        "        plt.imshow(item[0])\n",
        "\n",
        "\n",
        "    for i, item in enumerate(recon):\n",
        "        if i >= 9: break\n",
        "        plt.subplot(3, 9, 18+i+1) # total row_length + i + 1\n",
        "        # item = item.reshape(-1, 28,28) # -> use for Autoencoder_Linear\n",
        "        # item: 1, 28, 28\n",
        "        plt.imshow(item[0])"
      ]
    },
    {
      "cell_type": "code",
      "execution_count": null,
      "id": "diverse-hours",
      "metadata": {
        "id": "diverse-hours"
      },
      "outputs": [],
      "source": [
        "from skimage.metrics import structural_similarity\n",
        "import cv2\n",
        "import numpy as np"
      ]
    },
    {
      "cell_type": "code",
      "execution_count": null,
      "id": "81ee3956",
      "metadata": {
        "id": "81ee3956"
      },
      "outputs": [],
      "source": [
        "imgs = outputs[0][1].detach().numpy() \n",
        "imgs_noisy = outputs[0][2].detach().numpy()#converting a tensor to numpy\n",
        "recon = outputs[0][3].detach().numpy()"
      ]
    },
    {
      "cell_type": "code",
      "execution_count": null,
      "id": "468d2db9",
      "metadata": {
        "id": "468d2db9",
        "outputId": "d0efcf71-965d-41d8-e139-f0cf402c4165"
      },
      "outputs": [
        {
          "data": {
            "image/png": "[encoded data removed]",
            "text/plain": [
              "<Figure size 640x480 with 1 Axes>"
            ]
          },
          "metadata": {},
          "output_type": "display_data"
        }
      ],
      "source": [
        "for i, item in enumerate(imgs):\n",
        "    #print(i,item)\n",
        "    original=item[0]\n",
        "    plt.imshow(item[0])\n"
      ]
    },
    {
      "cell_type": "code",
      "execution_count": null,
      "id": "9d5e538c",
      "metadata": {
        "id": "9d5e538c",
        "outputId": "60fcc003-e80c-4684-85ce-aea141177d94"
      },
      "outputs": [
        {
          "data": {
            "image/png": "[encoded data removed]",
            "text/plain": [
              "<Figure size 640x480 with 1 Axes>"
            ]
          },
          "metadata": {},
          "output_type": "display_data"
        }
      ],
      "source": [
        "for i, item in enumerate(recon):\n",
        "    #print(i,item)\n",
        "    after_recon=item[0]\n",
        "    plt.imshow(item[0])\n",
        "    "
      ]
    },
    {
      "cell_type": "code",
      "execution_count": null,
      "id": "577b9013",
      "metadata": {
        "id": "577b9013",
        "outputId": "64d65328-af47-4b11-e8ba-140120317fb8"
      },
      "outputs": [
        {
          "name": "stdout",
          "output_type": "stream",
          "text": [
            "Image similarity 0.7721809961271188\n"
          ]
        }
      ],
      "source": [
        "#SSIM\n",
        "(score, diff) = structural_similarity(original, after_recon, full=True)\n",
        "print(\"Image similarity\", score)"
      ]
    },
    {
      "cell_type": "markdown",
      "source": [
        " The diff image contains the actual image differences between the two images and is represented as a floating point data type in the range [0,1] so we must convert the array to 8-bit unsigned integers in the range\n",
        "[0,255]  before we can use it with OpenCV"
      ],
      "metadata": {
        "id": "ijYzfl3kuPA2"
      },
      "id": "ijYzfl3kuPA2"
    },
    {
      "cell_type": "code",
      "execution_count": null,
      "id": "f7d5e0e1",
      "metadata": {
        "id": "f7d5e0e1",
        "outputId": "f3d0103a-a6fc-4d79-a391-2c2cf8f342cc"
      },
      "outputs": [
        {
          "data": {
            "text/plain": [
              "<matplotlib.image.AxesImage at 0x7f9100aebf90>"
            ]
          },
          "execution_count": 21,
          "metadata": {},
          "output_type": "execute_result"
        },
        {
          "data": {
            "image/png": "[encoded data removed]",
            "text/plain": [
              "<Figure size 640x480 with 1 Axes>"
            ]
          },
          "metadata": {},
          "output_type": "display_data"
        }
      ],
      "source": [
        "\n",
        "diff = (diff * 255).astype(\"uint8\") #difference between original and reconstructed images\n",
        "plt.imshow(diff)"
      ]
    },
    {
      "cell_type": "markdown",
      "source": [
        "Peak signal-to-noise ratio (PSNR) is the ratio between the maximum possible power of an image and the power of corrupting noise that affects the quality of its representation. To estimate the PSNR of an image, it is necessary to compare that image to an ideal clean image with the maximum possible power.\n",
        "\n",
        "PSNR is defined as follows: "
      ],
      "metadata": {
        "id": "zZmPaiPDh5uP"
      },
      "id": "zZmPaiPDh5uP"
    },
    {
      "cell_type": "markdown",
      "source": [
        " ![Screenshot from 2022-11-02 18-57-30.png](data:image/png;base64,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)"
      ],
      "metadata": {
        "id": "MfaKIq0Nhvse"
      },
      "id": "MfaKIq0Nhvse"
    },
    {
      "cell_type": "markdown",
      "source": [
        "Here, L is the number of maximum possible intensity levels"
      ],
      "metadata": {
        "id": "vo-qgyiSiHc8"
      },
      "id": "vo-qgyiSiHc8"
    },
    {
      "cell_type": "code",
      "execution_count": null,
      "id": "90ac892f",
      "metadata": {
        "id": "90ac892f"
      },
      "outputs": [],
      "source": [
        "#calculated the PSNR (peak-signal-to-noise-ratio)\n",
        "def PSNR(original, after_recon):\n",
        "    mse = np.mean((original - after_recon) ** 2)\n",
        "    if(mse == 0):  # MSE is zero means no noise is present in the signal .\n",
        "                  # Therefore PSNR have no importance.\n",
        "        return 100\n",
        "    max_pixel = 255.0\n",
        "    psnr = 20 * np.log10(max_pixel / np.sqrt(mse)) #converting to DB\n",
        "    return psnr"
      ]
    },
    {
      "cell_type": "code",
      "execution_count": null,
      "id": "f17fdb18",
      "metadata": {
        "id": "f17fdb18",
        "outputId": "e03c32c3-2e8a-459a-d67f-8a4633631b02"
      },
      "outputs": [
        {
          "name": "stdout",
          "output_type": "stream",
          "text": [
            "PSNR value is 65.13739058583806 dB\n"
          ]
        }
      ],
      "source": [
        "\n",
        "value = PSNR(original, after_recon)\n",
        "print(f\"PSNR value is {value} dB\")"
      ]
    }
  ],
  "metadata": {
    "kernelspec": {
      "display_name": "Python 3.7.13 ('pygame_env')",
      "language": "python",
      "name": "python3"
    },
    "language_info": {
      "codemirror_mode": {
        "name": "ipython",
        "version": 3
      },
      "file_extension": ".py",
      "mimetype": "text/x-python",
      "name": "python",
      "nbconvert_exporter": "python",
      "pygments_lexer": "ipython3",
      "version": "3.7.13"
    },
    "vscode": {
      "interpreter": {
        "hash": "0ddd6dc6394d32d0d819bf76da1b0ca75509199884410c63fddf470aced7d0bc"
      }
    },
    "colab": {
      "provenance": [],
      "include_colab_link": true
    },
    "widgets": {
      "application/vnd.jupyter.widget-state+json": {
        "bf50772cb0b24b5d8b77886f66c67835": {
          "model_module": "@jupyter-widgets/controls",
          "model_name": "HBoxModel",
          "model_module_version": "1.5.0",
          "state": {
            "_dom_classes": [],
            "_model_module": "@jupyter-widgets/controls",
            "_model_module_version": "1.5.0",
            "_model_name": "HBoxModel",
            "_view_count": null,
            "_view_module": "@jupyter-widgets/controls",
            "_view_module_version": "1.5.0",
            "_view_name": "HBoxView",
            "box_style": "",
            "children": [
              "IPY_MODEL_88b2c0d6a3b64b04a1e734c62ed29a06",
              "IPY_MODEL_4e1c6ea288bb4ac79011042343daf0b9",
              "IPY_MODEL_aca53e42ce9440f8a638e718122d236e"
            ],
            "layout": "IPY_MODEL_d81dc81e825a43579f1829751b050fe1"
          }
        },
        "88b2c0d6a3b64b04a1e734c62ed29a06": {
          "model_module": "@jupyter-widgets/controls",
          "model_name": "HTMLModel",
          "model_module_version": "1.5.0",
          "state": {
            "_dom_classes": [],
            "_model_module": "@jupyter-widgets/controls",
            "_model_module_version": "1.5.0",
            "_model_name": "HTMLModel",
            "_view_count": null,
            "_view_module": "@jupyter-widgets/controls",
            "_view_module_version": "1.5.0",
            "_view_name": "HTMLView",
            "description": "",
            "description_tooltip": null,
            "layout": "IPY_MODEL_a000e46527be4adfb476fa1e481109a8",
            "placeholder": "​",
            "style": "IPY_MODEL_e7110372971447a3a44f431d546f5ca2",
            "value": "100%"
          }
        },
        "4e1c6ea288bb4ac79011042343daf0b9": {
          "model_module": "@jupyter-widgets/controls",
          "model_name": "FloatProgressModel",
          "model_module_version": "1.5.0",
          "state": {
            "_dom_classes": [],
            "_model_module": "@jupyter-widgets/controls",
            "_model_module_version": "1.5.0",
            "_model_name": "FloatProgressModel",
            "_view_count": null,
            "_view_module": "@jupyter-widgets/controls",
            "_view_module_version": "1.5.0",
            "_view_name": "ProgressView",
            "bar_style": "success",
            "description": "",
            "description_tooltip": null,
            "layout": "IPY_MODEL_1bd546782da3437f9a1cd94d96961661",
            "max": 9912422,
            "min": 0,
            "orientation": "horizontal",
            "style": "IPY_MODEL_97737c31fb4d40e3ad5f07d828879a44",
            "value": 9912422
          }
        },
        "aca53e42ce9440f8a638e718122d236e": {
          "model_module": "@jupyter-widgets/controls",
          "model_name": "HTMLModel",
          "model_module_version": "1.5.0",
          "state": {
            "_dom_classes": [],
            "_model_module": "@jupyter-widgets/controls",
            "_model_module_version": "1.5.0",
            "_model_name": "HTMLModel",
            "_view_count": null,
            "_view_module": "@jupyter-widgets/controls",
            "_view_module_version": "1.5.0",
            "_view_name": "HTMLView",
            "description": "",
            "description_tooltip": null,
            "layout": "IPY_MODEL_18e64f1cda26482f81fd53e71439a510",
            "placeholder": "​",
            "style": "IPY_MODEL_81b7473071584a888cf2113f90ec93c5",
            "value": " 9912422/9912422 [00:00&lt;00:00, 32579628.40it/s]"
          }
        },
        "d81dc81e825a43579f1829751b050fe1": {
          "model_module": "@jupyter-widgets/base",
          "model_name": "LayoutModel",
          "model_module_version": "1.2.0",
          "state": {
            "_model_module": "@jupyter-widgets/base",
            "_model_module_version": "1.2.0",
            "_model_name": "LayoutModel",
            "_view_count": null,
            "_view_module": "@jupyter-widgets/base",
            "_view_module_version": "1.2.0",
            "_view_name": "LayoutView",
            "align_content": null,
            "align_items": null,
            "align_self": null,
            "border": null,
            "bottom": null,
            "display": null,
            "flex": null,
            "flex_flow": null,
            "grid_area": null,
            "grid_auto_columns": null,
            "grid_auto_flow": null,
            "grid_auto_rows": null,
            "grid_column": null,
            "grid_gap": null,
            "grid_row": null,
            "grid_template_areas": null,
            "grid_template_columns": null,
            "grid_template_rows": null,
            "height": null,
            "justify_content": null,
            "justify_items": null,
            "left": null,
            "margin": null,
            "max_height": null,
            "max_width": null,
            "min_height": null,
            "min_width": null,
            "object_fit": null,
            "object_position": null,
            "order": null,
            "overflow": null,
            "overflow_x": null,
            "overflow_y": null,
            "padding": null,
            "right": null,
            "top": null,
            "visibility": null,
            "width": null
          }
        },
        "a000e46527be4adfb476fa1e481109a8": {
          "model_module": "@jupyter-widgets/base",
          "model_name": "LayoutModel",
          "model_module_version": "1.2.0",
          "state": {
            "_model_module": "@jupyter-widgets/base",
            "_model_module_version": "1.2.0",
            "_model_name": "LayoutModel",
            "_view_count": null,
            "_view_module": "@jupyter-widgets/base",
            "_view_module_version": "1.2.0",
            "_view_name": "LayoutView",
            "align_content": null,
            "align_items": null,
            "align_self": null,
            "border": null,
            "bottom": null,
            "display": null,
            "flex": null,
            "flex_flow": null,
            "grid_area": null,
            "grid_auto_columns": null,
            "grid_auto_flow": null,
            "grid_auto_rows": null,
            "grid_column": null,
            "grid_gap": null,
            "grid_row": null,
            "grid_template_areas": null,
            "grid_template_columns": null,
            "grid_template_rows": null,
            "height": null,
            "justify_content": null,
            "justify_items": null,
            "left": null,
            "margin": null,
            "max_height": null,
            "max_width": null,
            "min_height": null,
            "min_width": null,
            "object_fit": null,
            "object_position": null,
            "order": null,
            "overflow": null,
            "overflow_x": null,
            "overflow_y": null,
            "padding": null,
            "right": null,
            "top": null,
            "visibility": null,
            "width": null
          }
        },
        "e7110372971447a3a44f431d546f5ca2": {
          "model_module": "@jupyter-widgets/controls",
          "model_name": "DescriptionStyleModel",
          "model_module_version": "1.5.0",
          "state": {
            "_model_module": "@jupyter-widgets/controls",
            "_model_module_version": "1.5.0",
            "_model_name": "DescriptionStyleModel",
            "_view_count": null,
            "_view_module": "@jupyter-widgets/base",
            "_view_module_version": "1.2.0",
            "_view_name": "StyleView",
            "description_width": ""
          }
        },
        "1bd546782da3437f9a1cd94d96961661": {
          "model_module": "@jupyter-widgets/base",
          "model_name": "LayoutModel",
          "model_module_version": "1.2.0",
          "state": {
            "_model_module": "@jupyter-widgets/base",
            "_model_module_version": "1.2.0",
            "_model_name": "LayoutModel",
            "_view_count": null,
            "_view_module": "@jupyter-widgets/base",
            "_view_module_version": "1.2.0",
            "_view_name": "LayoutView",
            "align_content": null,
            "align_items": null,
            "align_self": null,
            "border": null,
            "bottom": null,
            "display": null,
            "flex": null,
            "flex_flow": null,
            "grid_area": null,
            "grid_auto_columns": null,
            "grid_auto_flow": null,
            "grid_auto_rows": null,
            "grid_column": null,
            "grid_gap": null,
            "grid_row": null,
            "grid_template_areas": null,
            "grid_template_columns": null,
            "grid_template_rows": null,
            "height": null,
            "justify_content": null,
            "justify_items": null,
            "left": null,
            "margin": null,
            "max_height": null,
            "max_width": null,
            "min_height": null,
            "min_width": null,
            "object_fit": null,
            "object_position": null,
            "order": null,
            "overflow": null,
            "overflow_x": null,
            "overflow_y": null,
            "padding": null,
            "right": null,
            "top": null,
            "visibility": null,
            "width": null
          }
        },
        "97737c31fb4d40e3ad5f07d828879a44": {
          "model_module": "@jupyter-widgets/controls",
          "model_name": "ProgressStyleModel",
          "model_module_version": "1.5.0",
          "state": {
            "_model_module": "@jupyter-widgets/controls",
            "_model_module_version": "1.5.0",
            "_model_name": "ProgressStyleModel",
            "_view_count": null,
            "_view_module": "@jupyter-widgets/base",
            "_view_module_version": "1.2.0",
            "_view_name": "StyleView",
            "bar_color": null,
            "description_width": ""
          }
        },
        "18e64f1cda26482f81fd53e71439a510": {
          "model_module": "@jupyter-widgets/base",
          "model_name": "LayoutModel",
          "model_module_version": "1.2.0",
          "state": {
            "_model_module": "@jupyter-widgets/base",
            "_model_module_version": "1.2.0",
            "_model_name": "LayoutModel",
            "_view_count": null,
            "_view_module": "@jupyter-widgets/base",
            "_view_module_version": "1.2.0",
            "_view_name": "LayoutView",
            "align_content": null,
            "align_items": null,
            "align_self": null,
            "border": null,
            "bottom": null,
            "display": null,
            "flex": null,
            "flex_flow": null,
            "grid_area": null,
            "grid_auto_columns": null,
            "grid_auto_flow": null,
            "grid_auto_rows": null,
            "grid_column": null,
            "grid_gap": null,
            "grid_row": null,
            "grid_template_areas": null,
            "grid_template_columns": null,
            "grid_template_rows": null,
            "height": null,
            "justify_content": null,
            "justify_items": null,
            "left": null,
            "margin": null,
            "max_height": null,
            "max_width": null,
            "min_height": null,
            "min_width": null,
            "object_fit": null,
            "object_position": null,
            "order": null,
            "overflow": null,
            "overflow_x": null,
            "overflow_y": null,
            "padding": null,
            "right": null,
            "top": null,
            "visibility": null,
            "width": null
          }
        },
        "81b7473071584a888cf2113f90ec93c5": {
          "model_module": "@jupyter-widgets/controls",
          "model_name": "DescriptionStyleModel",
          "model_module_version": "1.5.0",
          "state": {
            "_model_module": "@jupyter-widgets/controls",
            "_model_module_version": "1.5.0",
            "_model_name": "DescriptionStyleModel",
            "_view_count": null,
            "_view_module": "@jupyter-widgets/base",
            "_view_module_version": "1.2.0",
            "_view_name": "StyleView",
            "description_width": ""
          }
        },
        "af619f08b85b4681bc85615133fe7991": {
          "model_module": "@jupyter-widgets/controls",
          "model_name": "HBoxModel",
          "model_module_version": "1.5.0",
          "state": {
            "_dom_classes": [],
            "_model_module": "@jupyter-widgets/controls",
            "_model_module_version": "1.5.0",
            "_model_name": "HBoxModel",
            "_view_count": null,
            "_view_module": "@jupyter-widgets/controls",
            "_view_module_version": "1.5.0",
            "_view_name": "HBoxView",
            "box_style": "",
            "children": [
              "IPY_MODEL_752fef5471364975a082e3d81c4c8c50",
              "IPY_MODEL_9b7d3b2272f44842a14d8845a18bba14",
              "IPY_MODEL_26735e5162b148f88f8fdcde8e04312c"
            ],
            "layout": "IPY_MODEL_890b06bef4284fcb972d6fa41fede084"
          }
        },
        "752fef5471364975a082e3d81c4c8c50": {
          "model_module": "@jupyter-widgets/controls",
          "model_name": "HTMLModel",
          "model_module_version": "1.5.0",
          "state": {
            "_dom_classes": [],
            "_model_module": "@jupyter-widgets/controls",
            "_model_module_version": "1.5.0",
            "_model_name": "HTMLModel",
            "_view_count": null,
            "_view_module": "@jupyter-widgets/controls",
            "_view_module_version": "1.5.0",
            "_view_name": "HTMLView",
            "description": "",
            "description_tooltip": null,
            "layout": "IPY_MODEL_cebe473c81804f5aa91e2631d2e1ed11",
            "placeholder": "​",
            "style": "IPY_MODEL_f2f96d55969b4ba28b7438faea60815f",
            "value": "100%"
          }
        },
        "9b7d3b2272f44842a14d8845a18bba14": {
          "model_module": "@jupyter-widgets/controls",
          "model_name": "FloatProgressModel",
          "model_module_version": "1.5.0",
          "state": {
            "_dom_classes": [],
            "_model_module": "@jupyter-widgets/controls",
            "_model_module_version": "1.5.0",
            "_model_name": "FloatProgressModel",
            "_view_count": null,
            "_view_module": "@jupyter-widgets/controls",
            "_view_module_version": "1.5.0",
            "_view_name": "ProgressView",
            "bar_style": "success",
            "description": "",
            "description_tooltip": null,
            "layout": "IPY_MODEL_6d549e13f4cb4aa8be187a606bb90eb8",
            "max": 28881,
            "min": 0,
            "orientation": "horizontal",
            "style": "IPY_MODEL_37594e858924468e84af958c066600d6",
            "value": 28881
          }
        },
        "26735e5162b148f88f8fdcde8e04312c": {
          "model_module": "@jupyter-widgets/controls",
          "model_name": "HTMLModel",
          "model_module_version": "1.5.0",
          "state": {
            "_dom_classes": [],
            "_model_module": "@jupyter-widgets/controls",
            "_model_module_version": "1.5.0",
            "_model_name": "HTMLModel",
            "_view_count": null,
            "_view_module": "@jupyter-widgets/controls",
            "_view_module_version": "1.5.0",
            "_view_name": "HTMLView",
            "description": "",
            "description_tooltip": null,
            "layout": "IPY_MODEL_9830e808e83b4964a0e0b1e62f94a114",
            "placeholder": "​",
            "style": "IPY_MODEL_470ba1e68af8418d802257f8bdfc15a6",
            "value": " 28881/28881 [00:00&lt;00:00, 723954.54it/s]"
          }
        },
        "890b06bef4284fcb972d6fa41fede084": {
          "model_module": "@jupyter-widgets/base",
          "model_name": "LayoutModel",
          "model_module_version": "1.2.0",
          "state": {
            "_model_module": "@jupyter-widgets/base",
            "_model_module_version": "1.2.0",
            "_model_name": "LayoutModel",
            "_view_count": null,
            "_view_module": "@jupyter-widgets/base",
            "_view_module_version": "1.2.0",
            "_view_name": "LayoutView",
            "align_content": null,
            "align_items": null,
            "align_self": null,
            "border": null,
            "bottom": null,
            "display": null,
            "flex": null,
            "flex_flow": null,
            "grid_area": null,
            "grid_auto_columns": null,
            "grid_auto_flow": null,
            "grid_auto_rows": null,
            "grid_column": null,
            "grid_gap": null,
            "grid_row": null,
            "grid_template_areas": null,
            "grid_template_columns": null,
            "grid_template_rows": null,
            "height": null,
            "justify_content": null,
            "justify_items": null,
            "left": null,
            "margin": null,
            "max_height": null,
            "max_width": null,
            "min_height": null,
            "min_width": null,
            "object_fit": null,
            "object_position": null,
            "order": null,
            "overflow": null,
            "overflow_x": null,
            "overflow_y": null,
            "padding": null,
            "right": null,
            "top": null,
            "visibility": null,
            "width": null
          }
        },
        "cebe473c81804f5aa91e2631d2e1ed11": {
          "model_module": "@jupyter-widgets/base",
          "model_name": "LayoutModel",
          "model_module_version": "1.2.0",
          "state": {
            "_model_module": "@jupyter-widgets/base",
            "_model_module_version": "1.2.0",
            "_model_name": "LayoutModel",
            "_view_count": null,
            "_view_module": "@jupyter-widgets/base",
            "_view_module_version": "1.2.0",
            "_view_name": "LayoutView",
            "align_content": null,
            "align_items": null,
            "align_self": null,
            "border": null,
            "bottom": null,
            "display": null,
            "flex": null,
            "flex_flow": null,
            "grid_area": null,
            "grid_auto_columns": null,
            "grid_auto_flow": null,
            "grid_auto_rows": null,
            "grid_column": null,
            "grid_gap": null,
            "grid_row": null,
            "grid_template_areas": null,
            "grid_template_columns": null,
            "grid_template_rows": null,
            "height": null,
            "justify_content": null,
            "justify_items": null,
            "left": null,
            "margin": null,
            "max_height": null,
            "max_width": null,
            "min_height": null,
            "min_width": null,
            "object_fit": null,
            "object_position": null,
            "order": null,
            "overflow": null,
            "overflow_x": null,
            "overflow_y": null,
            "padding": null,
            "right": null,
            "top": null,
            "visibility": null,
            "width": null
          }
        },
        "f2f96d55969b4ba28b7438faea60815f": {
          "model_module": "@jupyter-widgets/controls",
          "model_name": "DescriptionStyleModel",
          "model_module_version": "1.5.0",
          "state": {
            "_model_module": "@jupyter-widgets/controls",
            "_model_module_version": "1.5.0",
            "_model_name": "DescriptionStyleModel",
            "_view_count": null,
            "_view_module": "@jupyter-widgets/base",
            "_view_module_version": "1.2.0",
            "_view_name": "StyleView",
            "description_width": ""
          }
        },
        "6d549e13f4cb4aa8be187a606bb90eb8": {
          "model_module": "@jupyter-widgets/base",
          "model_name": "LayoutModel",
          "model_module_version": "1.2.0",
          "state": {
            "_model_module": "@jupyter-widgets/base",
            "_model_module_version": "1.2.0",
            "_model_name": "LayoutModel",
            "_view_count": null,
            "_view_module": "@jupyter-widgets/base",
            "_view_module_version": "1.2.0",
            "_view_name": "LayoutView",
            "align_content": null,
            "align_items": null,
            "align_self": null,
            "border": null,
            "bottom": null,
            "display": null,
            "flex": null,
            "flex_flow": null,
            "grid_area": null,
            "grid_auto_columns": null,
            "grid_auto_flow": null,
            "grid_auto_rows": null,
            "grid_column": null,
            "grid_gap": null,
            "grid_row": null,
            "grid_template_areas": null,
            "grid_template_columns": null,
            "grid_template_rows": null,
            "height": null,
            "justify_content": null,
            "justify_items": null,
            "left": null,
            "margin": null,
            "max_height": null,
            "max_width": null,
            "min_height": null,
            "min_width": null,
            "object_fit": null,
            "object_position": null,
            "order": null,
            "overflow": null,
            "overflow_x": null,
            "overflow_y": null,
            "padding": null,
            "right": null,
            "top": null,
            "visibility": null,
            "width": null
          }
        },
        "37594e858924468e84af958c066600d6": {
          "model_module": "@jupyter-widgets/controls",
          "model_name": "ProgressStyleModel",
          "model_module_version": "1.5.0",
          "state": {
            "_model_module": "@jupyter-widgets/controls",
            "_model_module_version": "1.5.0",
            "_model_name": "ProgressStyleModel",
            "_view_count": null,
            "_view_module": "@jupyter-widgets/base",
            "_view_module_version": "1.2.0",
            "_view_name": "StyleView",
            "bar_color": null,
            "description_width": ""
          }
        },
        "9830e808e83b4964a0e0b1e62f94a114": {
          "model_module": "@jupyter-widgets/base",
          "model_name": "LayoutModel",
          "model_module_version": "1.2.0",
          "state": {
            "_model_module": "@jupyter-widgets/base",
            "_model_module_version": "1.2.0",
            "_model_name": "LayoutModel",
            "_view_count": null,
            "_view_module": "@jupyter-widgets/base",
            "_view_module_version": "1.2.0",
            "_view_name": "LayoutView",
            "align_content": null,
            "align_items": null,
            "align_self": null,
            "border": null,
            "bottom": null,
            "display": null,
            "flex": null,
            "flex_flow": null,
            "grid_area": null,
            "grid_auto_columns": null,
            "grid_auto_flow": null,
            "grid_auto_rows": null,
            "grid_column": null,
            "grid_gap": null,
            "grid_row": null,
            "grid_template_areas": null,
            "grid_template_columns": null,
            "grid_template_rows": null,
            "height": null,
            "justify_content": null,
            "justify_items": null,
            "left": null,
            "margin": null,
            "max_height": null,
            "max_width": null,
            "min_height": null,
            "min_width": null,
            "object_fit": null,
            "object_position": null,
            "order": null,
            "overflow": null,
            "overflow_x": null,
            "overflow_y": null,
            "padding": null,
            "right": null,
            "top": null,
            "visibility": null,
            "width": null
          }
        },
        "470ba1e68af8418d802257f8bdfc15a6": {
          "model_module": "@jupyter-widgets/controls",
          "model_name": "DescriptionStyleModel",
          "model_module_version": "1.5.0",
          "state": {
            "_model_module": "@jupyter-widgets/controls",
            "_model_module_version": "1.5.0",
            "_model_name": "DescriptionStyleModel",
            "_view_count": null,
            "_view_module": "@jupyter-widgets/base",
            "_view_module_version": "1.2.0",
            "_view_name": "StyleView",
            "description_width": ""
          }
        },
        "751c13c1e7ca48a490fdca7dba244634": {
          "model_module": "@jupyter-widgets/controls",
          "model_name": "HBoxModel",
          "model_module_version": "1.5.0",
          "state": {
            "_dom_classes": [],
            "_model_module": "@jupyter-widgets/controls",
            "_model_module_version": "1.5.0",
            "_model_name": "HBoxModel",
            "_view_count": null,
            "_view_module": "@jupyter-widgets/controls",
            "_view_module_version": "1.5.0",
            "_view_name": "HBoxView",
            "box_style": "",
            "children": [
              "IPY_MODEL_d7f5a92f186b455891b1979b4ad9e9eb",
              "IPY_MODEL_4b63e8dcd71b416a9a78f575fbd8f8ed",
              "IPY_MODEL_b968810f8d2a4549aa4b92a2baf455a8"
            ],
            "layout": "IPY_MODEL_f90c1dba36dd4f98887864f1e7d6eb59"
          }
        },
        "d7f5a92f186b455891b1979b4ad9e9eb": {
          "model_module": "@jupyter-widgets/controls",
          "model_name": "HTMLModel",
          "model_module_version": "1.5.0",
          "state": {
            "_dom_classes": [],
            "_model_module": "@jupyter-widgets/controls",
            "_model_module_version": "1.5.0",
            "_model_name": "HTMLModel",
            "_view_count": null,
            "_view_module": "@jupyter-widgets/controls",
            "_view_module_version": "1.5.0",
            "_view_name": "HTMLView",
            "description": "",
            "description_tooltip": null,
            "layout": "IPY_MODEL_703c2e3c99014a3ab7800b84b8c83d21",
            "placeholder": "​",
            "style": "IPY_MODEL_aa00c340e6a14a14ad9b0cf56bb9f83f",
            "value": "100%"
          }
        },
        "4b63e8dcd71b416a9a78f575fbd8f8ed": {
          "model_module": "@jupyter-widgets/controls",
          "model_name": "FloatProgressModel",
          "model_module_version": "1.5.0",
          "state": {
            "_dom_classes": [],
            "_model_module": "@jupyter-widgets/controls",
            "_model_module_version": "1.5.0",
            "_model_name": "FloatProgressModel",
            "_view_count": null,
            "_view_module": "@jupyter-widgets/controls",
            "_view_module_version": "1.5.0",
            "_view_name": "ProgressView",
            "bar_style": "success",
            "description": "",
            "description_tooltip": null,
            "layout": "IPY_MODEL_890a7698b4af4f52bd941c9228a243ff",
            "max": 1648877,
            "min": 0,
            "orientation": "horizontal",
            "style": "IPY_MODEL_b48a6eec95364762b51fdf4a055e8705",
            "value": 1648877
          }
        },
        "b968810f8d2a4549aa4b92a2baf455a8": {
          "model_module": "@jupyter-widgets/controls",
          "model_name": "HTMLModel",
          "model_module_version": "1.5.0",
          "state": {
            "_dom_classes": [],
            "_model_module": "@jupyter-widgets/controls",
            "_model_module_version": "1.5.0",
            "_model_name": "HTMLModel",
            "_view_count": null,
            "_view_module": "@jupyter-widgets/controls",
            "_view_module_version": "1.5.0",
            "_view_name": "HTMLView",
            "description": "",
            "description_tooltip": null,
            "layout": "IPY_MODEL_70adb48515144efd94d18e2b73e21728",
            "placeholder": "​",
            "style": "IPY_MODEL_2bfc6107cffb4e5297a14621025127d9",
            "value": " 1648877/1648877 [00:00&lt;00:00, 9100669.01it/s]"
          }
        },
        "f90c1dba36dd4f98887864f1e7d6eb59": {
          "model_module": "@jupyter-widgets/base",
          "model_name": "LayoutModel",
          "model_module_version": "1.2.0",
          "state": {
            "_model_module": "@jupyter-widgets/base",
            "_model_module_version": "1.2.0",
            "_model_name": "LayoutModel",
            "_view_count": null,
            "_view_module": "@jupyter-widgets/base",
            "_view_module_version": "1.2.0",
            "_view_name": "LayoutView",
            "align_content": null,
            "align_items": null,
            "align_self": null,
            "border": null,
            "bottom": null,
            "display": null,
            "flex": null,
            "flex_flow": null,
            "grid_area": null,
            "grid_auto_columns": null,
            "grid_auto_flow": null,
            "grid_auto_rows": null,
            "grid_column": null,
            "grid_gap": null,
            "grid_row": null,
            "grid_template_areas": null,
            "grid_template_columns": null,
            "grid_template_rows": null,
            "height": null,
            "justify_content": null,
            "justify_items": null,
            "left": null,
            "margin": null,
            "max_height": null,
            "max_width": null,
            "min_height": null,
            "min_width": null,
            "object_fit": null,
            "object_position": null,
            "order": null,
            "overflow": null,
            "overflow_x": null,
            "overflow_y": null,
            "padding": null,
            "right": null,
            "top": null,
            "visibility": null,
            "width": null
          }
        },
        "703c2e3c99014a3ab7800b84b8c83d21": {
          "model_module": "@jupyter-widgets/base",
          "model_name": "LayoutModel",
          "model_module_version": "1.2.0",
          "state": {
            "_model_module": "@jupyter-widgets/base",
            "_model_module_version": "1.2.0",
            "_model_name": "LayoutModel",
            "_view_count": null,
            "_view_module": "@jupyter-widgets/base",
            "_view_module_version": "1.2.0",
            "_view_name": "LayoutView",
            "align_content": null,
            "align_items": null,
            "align_self": null,
            "border": null,
            "bottom": null,
            "display": null,
            "flex": null,
            "flex_flow": null,
            "grid_area": null,
            "grid_auto_columns": null,
            "grid_auto_flow": null,
            "grid_auto_rows": null,
            "grid_column": null,
            "grid_gap": null,
            "grid_row": null,
            "grid_template_areas": null,
            "grid_template_columns": null,
            "grid_template_rows": null,
            "height": null,
            "justify_content": null,
            "justify_items": null,
            "left": null,
            "margin": null,
            "max_height": null,
            "max_width": null,
            "min_height": null,
            "min_width": null,
            "object_fit": null,
            "object_position": null,
            "order": null,
            "overflow": null,
            "overflow_x": null,
            "overflow_y": null,
            "padding": null,
            "right": null,
            "top": null,
            "visibility": null,
            "width": null
          }
        },
        "aa00c340e6a14a14ad9b0cf56bb9f83f": {
          "model_module": "@jupyter-widgets/controls",
          "model_name": "DescriptionStyleModel",
          "model_module_version": "1.5.0",
          "state": {
            "_model_module": "@jupyter-widgets/controls",
            "_model_module_version": "1.5.0",
            "_model_name": "DescriptionStyleModel",
            "_view_count": null,
            "_view_module": "@jupyter-widgets/base",
            "_view_module_version": "1.2.0",
            "_view_name": "StyleView",
            "description_width": ""
          }
        },
        "890a7698b4af4f52bd941c9228a243ff": {
          "model_module": "@jupyter-widgets/base",
          "model_name": "LayoutModel",
          "model_module_version": "1.2.0",
          "state": {
            "_model_module": "@jupyter-widgets/base",
            "_model_module_version": "1.2.0",
            "_model_name": "LayoutModel",
            "_view_count": null,
            "_view_module": "@jupyter-widgets/base",
            "_view_module_version": "1.2.0",
            "_view_name": "LayoutView",
            "align_content": null,
            "align_items": null,
            "align_self": null,
            "border": null,
            "bottom": null,
            "display": null,
            "flex": null,
            "flex_flow": null,
            "grid_area": null,
            "grid_auto_columns": null,
            "grid_auto_flow": null,
            "grid_auto_rows": null,
            "grid_column": null,
            "grid_gap": null,
            "grid_row": null,
            "grid_template_areas": null,
            "grid_template_columns": null,
            "grid_template_rows": null,
            "height": null,
            "justify_content": null,
            "justify_items": null,
            "left": null,
            "margin": null,
            "max_height": null,
            "max_width": null,
            "min_height": null,
            "min_width": null,
            "object_fit": null,
            "object_position": null,
            "order": null,
            "overflow": null,
            "overflow_x": null,
            "overflow_y": null,
            "padding": null,
            "right": null,
            "top": null,
            "visibility": null,
            "width": null
          }
        },
        "b48a6eec95364762b51fdf4a055e8705": {
          "model_module": "@jupyter-widgets/controls",
          "model_name": "ProgressStyleModel",
          "model_module_version": "1.5.0",
          "state": {
            "_model_module": "@jupyter-widgets/controls",
            "_model_module_version": "1.5.0",
            "_model_name": "ProgressStyleModel",
            "_view_count": null,
            "_view_module": "@jupyter-widgets/base",
            "_view_module_version": "1.2.0",
            "_view_name": "StyleView",
            "bar_color": null,
            "description_width": ""
          }
        },
        "70adb48515144efd94d18e2b73e21728": {
          "model_module": "@jupyter-widgets/base",
          "model_name": "LayoutModel",
          "model_module_version": "1.2.0",
          "state": {
            "_model_module": "@jupyter-widgets/base",
            "_model_module_version": "1.2.0",
            "_model_name": "LayoutModel",
            "_view_count": null,
            "_view_module": "@jupyter-widgets/base",
            "_view_module_version": "1.2.0",
            "_view_name": "LayoutView",
            "align_content": null,
            "align_items": null,
            "align_self": null,
            "border": null,
            "bottom": null,
            "display": null,
            "flex": null,
            "flex_flow": null,
            "grid_area": null,
            "grid_auto_columns": null,
            "grid_auto_flow": null,
            "grid_auto_rows": null,
            "grid_column": null,
            "grid_gap": null,
            "grid_row": null,
            "grid_template_areas": null,
            "grid_template_columns": null,
            "grid_template_rows": null,
            "height": null,
            "justify_content": null,
            "justify_items": null,
            "left": null,
            "margin": null,
            "max_height": null,
            "max_width": null,
            "min_height": null,
            "min_width": null,
            "object_fit": null,
            "object_position": null,
            "order": null,
            "overflow": null,
            "overflow_x": null,
            "overflow_y": null,
            "padding": null,
            "right": null,
            "top": null,
            "visibility": null,
            "width": null
          }
        },
        "2bfc6107cffb4e5297a14621025127d9": {
          "model_module": "@jupyter-widgets/controls",
          "model_name": "DescriptionStyleModel",
          "model_module_version": "1.5.0",
          "state": {
            "_model_module": "@jupyter-widgets/controls",
            "_model_module_version": "1.5.0",
            "_model_name": "DescriptionStyleModel",
            "_view_count": null,
            "_view_module": "@jupyter-widgets/base",
            "_view_module_version": "1.2.0",
            "_view_name": "StyleView",
            "description_width": ""
          }
        },
        "659ed297756442e08f6dc00111102176": {
          "model_module": "@jupyter-widgets/controls",
          "model_name": "HBoxModel",
          "model_module_version": "1.5.0",
          "state": {
            "_dom_classes": [],
            "_model_module": "@jupyter-widgets/controls",
            "_model_module_version": "1.5.0",
            "_model_name": "HBoxModel",
            "_view_count": null,
            "_view_module": "@jupyter-widgets/controls",
            "_view_module_version": "1.5.0",
            "_view_name": "HBoxView",
            "box_style": "",
            "children": [
              "IPY_MODEL_f3b48d46413547458605414d998eeed4",
              "IPY_MODEL_be52eb0f66f64a39a14c35561288ec09",
              "IPY_MODEL_b1da98b5398c4862b00c5bd9d1ac195f"
            ],
            "layout": "IPY_MODEL_ea7a251a273644d6bfc549b8ebf7cf40"
          }
        },
        "f3b48d46413547458605414d998eeed4": {
          "model_module": "@jupyter-widgets/controls",
          "model_name": "HTMLModel",
          "model_module_version": "1.5.0",
          "state": {
            "_dom_classes": [],
            "_model_module": "@jupyter-widgets/controls",
            "_model_module_version": "1.5.0",
            "_model_name": "HTMLModel",
            "_view_count": null,
            "_view_module": "@jupyter-widgets/controls",
            "_view_module_version": "1.5.0",
            "_view_name": "HTMLView",
            "description": "",
            "description_tooltip": null,
            "layout": "IPY_MODEL_dfba74d488804a21b1013590caf21590",
            "placeholder": "​",
            "style": "IPY_MODEL_2fb5578451974c81815138038a23580d",
            "value": "100%"
          }
        },
        "be52eb0f66f64a39a14c35561288ec09": {
          "model_module": "@jupyter-widgets/controls",
          "model_name": "FloatProgressModel",
          "model_module_version": "1.5.0",
          "state": {
            "_dom_classes": [],
            "_model_module": "@jupyter-widgets/controls",
            "_model_module_version": "1.5.0",
            "_model_name": "FloatProgressModel",
            "_view_count": null,
            "_view_module": "@jupyter-widgets/controls",
            "_view_module_version": "1.5.0",
            "_view_name": "ProgressView",
            "bar_style": "success",
            "description": "",
            "description_tooltip": null,
            "layout": "IPY_MODEL_2c7d45cd4da748e8bd2f091241af47ff",
            "max": 4542,
            "min": 0,
            "orientation": "horizontal",
            "style": "IPY_MODEL_730c1d1967b74b54aff61dcb0a2de76d",
            "value": 4542
          }
        },
        "b1da98b5398c4862b00c5bd9d1ac195f": {
          "model_module": "@jupyter-widgets/controls",
          "model_name": "HTMLModel",
          "model_module_version": "1.5.0",
          "state": {
            "_dom_classes": [],
            "_model_module": "@jupyter-widgets/controls",
            "_model_module_version": "1.5.0",
            "_model_name": "HTMLModel",
            "_view_count": null,
            "_view_module": "@jupyter-widgets/controls",
            "_view_module_version": "1.5.0",
            "_view_name": "HTMLView",
            "description": "",
            "description_tooltip": null,
            "layout": "IPY_MODEL_174420fa72ca463ca211fad66c3589ff",
            "placeholder": "​",
            "style": "IPY_MODEL_41e775f13bb24b1bb54337d6f25c1040",
            "value": " 4542/4542 [00:00&lt;00:00, 90681.39it/s]"
          }
        },
        "ea7a251a273644d6bfc549b8ebf7cf40": {
          "model_module": "@jupyter-widgets/base",
          "model_name": "LayoutModel",
          "model_module_version": "1.2.0",
          "state": {
            "_model_module": "@jupyter-widgets/base",
            "_model_module_version": "1.2.0",
            "_model_name": "LayoutModel",
            "_view_count": null,
            "_view_module": "@jupyter-widgets/base",
            "_view_module_version": "1.2.0",
            "_view_name": "LayoutView",
            "align_content": null,
            "align_items": null,
            "align_self": null,
            "border": null,
            "bottom": null,
            "display": null,
            "flex": null,
            "flex_flow": null,
            "grid_area": null,
            "grid_auto_columns": null,
            "grid_auto_flow": null,
            "grid_auto_rows": null,
            "grid_column": null,
            "grid_gap": null,
            "grid_row": null,
            "grid_template_areas": null,
            "grid_template_columns": null,
            "grid_template_rows": null,
            "height": null,
            "justify_content": null,
            "justify_items": null,
            "left": null,
            "margin": null,
            "max_height": null,
            "max_width": null,
            "min_height": null,
            "min_width": null,
            "object_fit": null,
            "object_position": null,
            "order": null,
            "overflow": null,
            "overflow_x": null,
            "overflow_y": null,
            "padding": null,
            "right": null,
            "top": null,
            "visibility": null,
            "width": null
          }
        },
        "dfba74d488804a21b1013590caf21590": {
          "model_module": "@jupyter-widgets/base",
          "model_name": "LayoutModel",
          "model_module_version": "1.2.0",
          "state": {
            "_model_module": "@jupyter-widgets/base",
            "_model_module_version": "1.2.0",
            "_model_name": "LayoutModel",
            "_view_count": null,
            "_view_module": "@jupyter-widgets/base",
            "_view_module_version": "1.2.0",
            "_view_name": "LayoutView",
            "align_content": null,
            "align_items": null,
            "align_self": null,
            "border": null,
            "bottom": null,
            "display": null,
            "flex": null,
            "flex_flow": null,
            "grid_area": null,
            "grid_auto_columns": null,
            "grid_auto_flow": null,
            "grid_auto_rows": null,
            "grid_column": null,
            "grid_gap": null,
            "grid_row": null,
            "grid_template_areas": null,
            "grid_template_columns": null,
            "grid_template_rows": null,
            "height": null,
            "justify_content": null,
            "justify_items": null,
            "left": null,
            "margin": null,
            "max_height": null,
            "max_width": null,
            "min_height": null,
            "min_width": null,
            "object_fit": null,
            "object_position": null,
            "order": null,
            "overflow": null,
            "overflow_x": null,
            "overflow_y": null,
            "padding": null,
            "right": null,
            "top": null,
            "visibility": null,
            "width": null
          }
        },
        "2fb5578451974c81815138038a23580d": {
          "model_module": "@jupyter-widgets/controls",
          "model_name": "DescriptionStyleModel",
          "model_module_version": "1.5.0",
          "state": {
            "_model_module": "@jupyter-widgets/controls",
            "_model_module_version": "1.5.0",
            "_model_name": "DescriptionStyleModel",
            "_view_count": null,
            "_view_module": "@jupyter-widgets/base",
            "_view_module_version": "1.2.0",
            "_view_name": "StyleView",
            "description_width": ""
          }
        },
        "2c7d45cd4da748e8bd2f091241af47ff": {
          "model_module": "@jupyter-widgets/base",
          "model_name": "LayoutModel",
          "model_module_version": "1.2.0",
          "state": {
            "_model_module": "@jupyter-widgets/base",
            "_model_module_version": "1.2.0",
            "_model_name": "LayoutModel",
            "_view_count": null,
            "_view_module": "@jupyter-widgets/base",
            "_view_module_version": "1.2.0",
            "_view_name": "LayoutView",
            "align_content": null,
            "align_items": null,
            "align_self": null,
            "border": null,
            "bottom": null,
            "display": null,
            "flex": null,
            "flex_flow": null,
            "grid_area": null,
            "grid_auto_columns": null,
            "grid_auto_flow": null,
            "grid_auto_rows": null,
            "grid_column": null,
            "grid_gap": null,
            "grid_row": null,
            "grid_template_areas": null,
            "grid_template_columns": null,
            "grid_template_rows": null,
            "height": null,
            "justify_content": null,
            "justify_items": null,
            "left": null,
            "margin": null,
            "max_height": null,
            "max_width": null,
            "min_height": null,
            "min_width": null,
            "object_fit": null,
            "object_position": null,
            "order": null,
            "overflow": null,
            "overflow_x": null,
            "overflow_y": null,
            "padding": null,
            "right": null,
            "top": null,
            "visibility": null,
            "width": null
          }
        },
        "730c1d1967b74b54aff61dcb0a2de76d": {
          "model_module": "@jupyter-widgets/controls",
          "model_name": "ProgressStyleModel",
          "model_module_version": "1.5.0",
          "state": {
            "_model_module": "@jupyter-widgets/controls",
            "_model_module_version": "1.5.0",
            "_model_name": "ProgressStyleModel",
            "_view_count": null,
            "_view_module": "@jupyter-widgets/base",
            "_view_module_version": "1.2.0",
            "_view_name": "StyleView",
            "bar_color": null,
            "description_width": ""
          }
        },
        "174420fa72ca463ca211fad66c3589ff": {
          "model_module": "@jupyter-widgets/base",
          "model_name": "LayoutModel",
          "model_module_version": "1.2.0",
          "state": {
            "_model_module": "@jupyter-widgets/base",
            "_model_module_version": "1.2.0",
            "_model_name": "LayoutModel",
            "_view_count": null,
            "_view_module": "@jupyter-widgets/base",
            "_view_module_version": "1.2.0",
            "_view_name": "LayoutView",
            "align_content": null,
            "align_items": null,
            "align_self": null,
            "border": null,
            "bottom": null,
            "display": null,
            "flex": null,
            "flex_flow": null,
            "grid_area": null,
            "grid_auto_columns": null,
            "grid_auto_flow": null,
            "grid_auto_rows": null,
            "grid_column": null,
            "grid_gap": null,
            "grid_row": null,
            "grid_template_areas": null,
            "grid_template_columns": null,
            "grid_template_rows": null,
            "height": null,
            "justify_content": null,
            "justify_items": null,
            "left": null,
            "margin": null,
            "max_height": null,
            "max_width": null,
            "min_height": null,
            "min_width": null,
            "object_fit": null,
            "object_position": null,
            "order": null,
            "overflow": null,
            "overflow_x": null,
            "overflow_y": null,
            "padding": null,
            "right": null,
            "top": null,
            "visibility": null,
            "width": null
          }
        },
        "41e775f13bb24b1bb54337d6f25c1040": {
          "model_module": "@jupyter-widgets/controls",
          "model_name": "DescriptionStyleModel",
          "model_module_version": "1.5.0",
          "state": {
            "_model_module": "@jupyter-widgets/controls",
            "_model_module_version": "1.5.0",
            "_model_name": "DescriptionStyleModel",
            "_view_count": null,
            "_view_module": "@jupyter-widgets/base",
            "_view_module_version": "1.2.0",
            "_view_name": "StyleView",
            "description_width": ""
          }
        }
      }
    }
  },
  "nbformat": 4,
  "nbformat_minor": 5
}